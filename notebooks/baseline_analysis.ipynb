{
 "cells": [
  {
   "cell_type": "code",
   "execution_count": null,
   "id": "8282518d",
   "metadata": {
    "vscode": {
     "languageId": "plaintext"
    }
   },
   "outputs": [],
   "source": [
    "import pandas as pd\n",
    "import matplotlib.pyplot as plt\n",
    "\n",
    "rand = pd.read_csv(\"../results/random.csv\")\n",
    "scrp = pd.read_csv(\"../results/scripted.csv\")\n",
    "\n",
    "# Compute 20-episode moving average\n",
    "rand[\"ma_reward\"] = rand[\"reward\"].rolling(20).mean()\n",
    "scrp[\"ma_reward\"] = scrp[\"reward\"].rolling(20).mean()\n",
    "\n",
    "# Plot\n",
    "plt.plot(rand[\"episode\"], rand[\"ma_reward\"], label=\"Random\")\n",
    "plt.plot(scrp[\"episode\"], scrp[\"ma_reward\"], label=\"Scripted\")\n",
    "plt.xlabel(\"Episode\")\n",
    "plt.ylabel(\"20-ep MA Reward\")\n",
    "plt.legend()\n",
    "plt.show()\n",
    "\n",
    "# Win-rate\n",
    "plt.plot(rand[\"episode\"], rand[\"win\"].rolling(20).mean(), label=\"Random Win%\")\n",
    "plt.plot(scrp[\"episode\"], scrp[\"win\"].rolling(20).mean(), label=\"Scripted Win%\")\n",
    "plt.xlabel(\"Episode\")\n",
    "plt.ylabel(\"20-ep Win Rate\")\n",
    "plt.legend()\n",
    "plt.show()\n"
   ]
  }
 ],
 "metadata": {
  "language_info": {
   "name": "python"
  }
 },
 "nbformat": 4,
 "nbformat_minor": 5
}
